{
 "cells": [
  {
   "cell_type": "markdown",
   "metadata": {
    "id": "OYtF1Gem5-0u"
   },
   "source": [
    "# Semantische Suche\n",
    "\n",
    "Erstellt Embeddings (Vektoren), die die Bedeutung der gegebenen Inhalte in 200 Dimensionen kodiert. Für die Umwandlung von Text bzw. Wörtern in sog. Embeddings wurde ein Model trainiert, auf das hier zurückgegriffen wird.\n",
    "\n",
    "Folgendes Beispiel zeigt, wie man mit diesen Vektoren rechnen kann. Subtrahiert man woman vom Wort mother und addiert man man erhält man father, wie du im folgenden Beispiel siehst. (Hinweis: Der Download kann etwas länger dauern).\n",
    "\n",
    "Hast du noch weitere Ideen, mit welchen Wörtern man rechnen kann?\n",
    "\n",
    "z.B. teacher - school + university = professor\n",
    "z.B. pretzel - germany + france ≈ baguette\n"
   ]
  },
  {
   "cell_type": "code",
   "execution_count": 1,
   "metadata": {
    "id": "wXaNXzn_lxVi",
    "tags": []
   },
   "outputs": [
    {
     "name": "stdout",
     "output_type": "stream",
     "text": [
      "\n",
      "\u001b[1m[\u001b[0m\u001b[34;49mnotice\u001b[0m\u001b[1;39;49m]\u001b[0m\u001b[39;49m A new release of pip is available: \u001b[0m\u001b[31;49m23.1.2\u001b[0m\u001b[39;49m -> \u001b[0m\u001b[32;49m25.1.1\u001b[0m\n",
      "\u001b[1m[\u001b[0m\u001b[34;49mnotice\u001b[0m\u001b[1;39;49m]\u001b[0m\u001b[39;49m To update, run: \u001b[0m\u001b[32;49mpip install --upgrade pip\u001b[0m\n",
      "Note: you may need to restart the kernel to use updated packages.\n",
      "[==================================================] 100.0% 252.1/252.1MB downloaded\n"
     ]
    }
   ],
   "source": [
    "%pip install -q gensim\n",
    "import gensim.downloader as api\n",
    "model = api.load(\"glove-wiki-gigaword-200\")\n",
    "\n"
   ]
  },
  {
   "cell_type": "code",
   "execution_count": 2,
   "metadata": {
    "id": "in3MN8bB9o7H",
    "tags": []
   },
   "outputs": [
    {
     "data": {
      "text/plain": [
       "[('father', 0.8118535280227661),\n",
       " ('mother', 0.7553707957267761),\n",
       " ('man', 0.7454989552497864),\n",
       " ('brother', 0.7374289035797119),\n",
       " ('son', 0.7233688235282898)]"
      ]
     },
     "execution_count": 2,
     "metadata": {},
     "output_type": "execute_result"
    }
   ],
   "source": [
    "vec = model[\"mother\"] - model[\"woman\"] + model[\"man\"]\n",
    "\n",
    "\n",
    "model.similar_by_vector(vec, topn=5)"
   ]
  },
  {
   "cell_type": "markdown",
   "metadata": {
    "id": "RXvde_6RTkKs"
   },
   "source": [
    "Im nächsten Beispiel nutzen wir diesen Technologie, um die Bedeutung von Texten zu durchsuchen. Dafür nutzen wir eine Liste an Texten und ein Suchbegriff, die von einem Modell in Vektoren umgewandelt werden. Mithilfe des Skalarprodukts kann dann über alle Dimensionen die Ähnlichkeit von zwei Vektoren ermittelt werden. Dabei ist der Wert größer je \"mehr\" die Vektoren in ihrer Richtung übereinstimmen. Dabei ist es einfacher sich das ganze im 3-Dimensionalen Raum vorzustellen.\n",
    "\n",
    "Für diese Aufgabe ist allerdings ein anderes Model nötig, da dieses ganze Sätze verstehen kann. Dies konvertiert die Sätze in 768 dimensionale Vektoren."
   ]
  },
  {
   "cell_type": "code",
   "execution_count": 3,
   "metadata": {
    "id": "7Gt0B52CVkfW",
    "tags": []
   },
   "outputs": [
    {
     "name": "stdout",
     "output_type": "stream",
     "text": [
      "\n",
      "\u001b[1m[\u001b[0m\u001b[34;49mnotice\u001b[0m\u001b[1;39;49m]\u001b[0m\u001b[39;49m A new release of pip is available: \u001b[0m\u001b[31;49m23.1.2\u001b[0m\u001b[39;49m -> \u001b[0m\u001b[32;49m25.1.1\u001b[0m\n",
      "\u001b[1m[\u001b[0m\u001b[34;49mnotice\u001b[0m\u001b[1;39;49m]\u001b[0m\u001b[39;49m To update, run: \u001b[0m\u001b[32;49mpip install --upgrade pip\u001b[0m\n",
      "Note: you may need to restart the kernel to use updated packages.\n",
      "\n",
      "\u001b[1m[\u001b[0m\u001b[34;49mnotice\u001b[0m\u001b[1;39;49m]\u001b[0m\u001b[39;49m A new release of pip is available: \u001b[0m\u001b[31;49m23.1.2\u001b[0m\u001b[39;49m -> \u001b[0m\u001b[32;49m25.1.1\u001b[0m\n",
      "\u001b[1m[\u001b[0m\u001b[34;49mnotice\u001b[0m\u001b[1;39;49m]\u001b[0m\u001b[39;49m To update, run: \u001b[0m\u001b[32;49mpip install --upgrade pip\u001b[0m\n",
      "Note: you may need to restart the kernel to use updated packages.\n"
     ]
    },
    {
     "name": "stderr",
     "output_type": "stream",
     "text": [
      "/home/vscode/.local/lib/python3.11/site-packages/tqdm/auto.py:21: TqdmWarning: IProgress not found. Please update jupyter and ipywidgets. See https://ipywidgets.readthedocs.io/en/stable/user_install.html\n",
      "  from .autonotebook import tqdm as notebook_tqdm\n",
      "2025-05-19 09:55:38.663058: E external/local_xla/xla/stream_executor/cuda/cuda_fft.cc:467] Unable to register cuFFT factory: Attempting to register factory for plugin cuFFT when one has already been registered\n",
      "WARNING: All log messages before absl::InitializeLog() is called are written to STDERR\n",
      "E0000 00:00:1747648538.677999    4397 cuda_dnn.cc:8579] Unable to register cuDNN factory: Attempting to register factory for plugin cuDNN when one has already been registered\n",
      "E0000 00:00:1747648538.682476    4397 cuda_blas.cc:1407] Unable to register cuBLAS factory: Attempting to register factory for plugin cuBLAS when one has already been registered\n",
      "W0000 00:00:1747648538.695647    4397 computation_placer.cc:177] computation placer already registered. Please check linkage and avoid linking the same target more than once.\n",
      "W0000 00:00:1747648538.695661    4397 computation_placer.cc:177] computation placer already registered. Please check linkage and avoid linking the same target more than once.\n",
      "W0000 00:00:1747648538.695663    4397 computation_placer.cc:177] computation placer already registered. Please check linkage and avoid linking the same target more than once.\n",
      "W0000 00:00:1747648538.695665    4397 computation_placer.cc:177] computation placer already registered. Please check linkage and avoid linking the same target more than once.\n",
      "2025-05-19 09:55:38.700501: I tensorflow/core/platform/cpu_feature_guard.cc:210] This TensorFlow binary is optimized to use available CPU instructions in performance-critical operations.\n",
      "To enable the following instructions: AVX2 FMA, in other operations, rebuild TensorFlow with the appropriate compiler flags.\n",
      "Xet Storage is enabled for this repo, but the 'hf_xet' package is not installed. Falling back to regular HTTP download. For better performance, install the package with: `pip install huggingface_hub[hf_xet]` or `pip install hf_xet`\n"
     ]
    }
   ],
   "source": [
    "%pip install -q sentence_transformers\n",
    "%pip install -q torch tf-keras\n",
    "from sentence_transformers import SentenceTransformer, util\n",
    "import torch\n",
    "\n",
    "model = SentenceTransformer(\"sentence-transformers/paraphrase-mpnet-base-v2\")"
   ]
  },
  {
   "cell_type": "code",
   "execution_count": 4,
   "metadata": {
    "id": "Q5JgKETWVsTr",
    "tags": []
   },
   "outputs": [
    {
     "data": {
      "text/plain": [
       "5"
      ]
     },
     "execution_count": 4,
     "metadata": {},
     "output_type": "execute_result"
    }
   ],
   "source": [
    "\n",
    "sentences = [\n",
    "    \"Deep learning models are revolutionizing natural language processing.\",\n",
    "    \"Reinforcement learning algorithms are used in robotics and game playing.\",\n",
    "    \"Generative adversarial networks are creating realistic images and videos.\",\n",
    "    \"Explainable AI is crucial for building trust in AI systems.\",\n",
    "    \"Ethical considerations in AI development are becoming increasingly important.\"\n",
    "]\n",
    "\n",
    "len(sentences)"
   ]
  },
  {
   "cell_type": "code",
   "execution_count": 5,
   "metadata": {
    "id": "A9-tKllOWRWE"
   },
   "outputs": [
    {
     "name": "stdout",
     "output_type": "stream",
     "text": [
      "[ 2.17507686e-02 -1.58684388e-01 -8.73355474e-03 -7.93801025e-02\n",
      "  6.58603758e-02  4.32269052e-02  3.18210930e-01 -6.65029734e-02\n",
      " -2.10551068e-01 -1.46435559e-01  4.53497544e-02  4.06425148e-02\n",
      " -2.09189318e-02  2.17503548e-01  1.11100808e-01 -1.48284182e-01\n",
      "  8.40316042e-02  1.30630851e-01 -1.76880702e-01  7.36415982e-02\n",
      "  2.94402416e-04 -4.31842655e-02 -4.41200193e-03  1.00005958e-02\n",
      " -3.15263569e-01 -2.16687873e-01 -1.94415554e-01  5.87974489e-02\n",
      " -4.42587724e-03  7.49052390e-02 -6.34334097e-03  1.98147580e-01\n",
      "  1.56810239e-01  1.27115369e-01  3.20420414e-02 -9.47865769e-02\n",
      " -4.72161621e-02 -7.15053156e-02 -3.95139083e-02  2.39444539e-01\n",
      "  4.23232257e-01  1.69619411e-01 -9.28514525e-02 -4.95444052e-02\n",
      " -8.01617354e-02  1.64747387e-02  2.96002328e-01 -1.96525395e-01\n",
      "  8.50908905e-02  9.59708020e-02 -6.30307272e-02 -4.90415171e-02\n",
      "  1.38531551e-01  6.90234676e-02 -1.19049631e-01  1.51550815e-01\n",
      " -9.94316265e-02  2.30667681e-01  2.85095751e-01  1.23887338e-01\n",
      "  1.13073789e-01  6.53659031e-02  4.31966409e-02 -5.79593936e-03\n",
      " -2.50324607e-03 -3.14325579e-02  3.51244867e-01 -2.27358297e-01\n",
      " -1.45476565e-01  6.27028802e-03  2.41751432e-01  2.94217225e-02\n",
      " -1.22285611e-03  4.03428962e-03  2.82795839e-02  1.87737778e-01\n",
      " -4.88592647e-02  6.55294433e-02 -7.99754336e-02  4.20824960e-02\n",
      " -2.30867304e-02 -1.17534079e-01 -3.01018264e-02 -7.69046992e-02\n",
      "  1.83448926e-01 -2.20674686e-02  7.14618489e-02  1.95685804e-01\n",
      " -2.44231507e-01  1.26275674e-01  1.06241778e-01 -1.96940497e-01\n",
      "  1.20629743e-01 -2.93034643e-01  9.06143337e-02  4.37960634e-03\n",
      "  6.10571727e-02 -3.15871537e-02 -1.02565959e-01 -6.58944696e-02\n",
      "  1.50113612e-01 -1.09215844e-02  2.02499002e-01  8.04679245e-02\n",
      "  1.90646961e-01 -2.56494462e-01 -1.31995037e-01  8.61084275e-03\n",
      "  6.50078338e-03  9.64756832e-02 -1.50035799e-01 -2.13096052e-01\n",
      " -1.32992193e-01  1.95734680e-01 -1.10271290e-01 -2.09216043e-01\n",
      "  1.71716616e-01  6.20181076e-02  3.98182012e-02 -1.48955375e-01\n",
      "  3.01190708e-02  1.39065117e-01 -2.13274267e-02 -2.25024521e-02\n",
      "  3.85542251e-02  3.03882897e-01 -1.12427566e-02  1.43268853e-01\n",
      "  1.24527015e-01 -6.47889525e-02  1.31800115e-01 -5.72158620e-02\n",
      " -1.24177791e-01  3.07786260e-02 -5.23668118e-02 -2.30034679e-01\n",
      "  1.12325691e-01 -1.20224673e-02 -2.38480657e-01 -9.29085612e-02\n",
      "  2.68854141e-01 -2.91219596e-02 -1.34453565e-01 -9.07222480e-02\n",
      " -6.47250284e-03  6.96950182e-02 -7.21289217e-02  1.15951516e-01\n",
      " -1.56646632e-02  3.84240113e-02 -7.07540214e-02  2.16301507e-03\n",
      " -1.21764220e-01  1.13989428e-01  1.60317153e-01  4.55582663e-02\n",
      "  3.75846513e-02  3.52015272e-02  2.84932908e-02  8.34560022e-03\n",
      "  1.39649153e-01 -1.33976964e-02 -4.93611544e-02  4.57049459e-02\n",
      " -3.98927517e-02  1.55548546e-02 -3.11182797e-01  9.57429633e-02\n",
      " -3.12323779e-01 -6.67839199e-02  4.04003002e-02 -4.51880060e-02\n",
      " -4.30739745e-02  2.81383812e-01  1.18134812e-01 -2.01353997e-01\n",
      "  1.26885235e-01  4.74583283e-02  1.55944750e-01  2.88477875e-02\n",
      " -2.59344485e-02  5.37582636e-02  1.96356371e-01  3.12086880e-01\n",
      " -5.62022701e-02 -4.11903933e-02 -2.29745209e-02  1.26185253e-01\n",
      " -2.01084465e-01  6.11514375e-02  1.21974036e-01 -1.05807722e-01\n",
      "  3.44495401e-02  1.15611002e-01  5.70527203e-02  2.38593534e-01\n",
      " -6.66978285e-02  1.50692329e-01 -1.38399750e-01 -1.11968353e-01\n",
      " -8.21189210e-02 -2.51083239e-03  1.25631005e-01 -1.41947493e-01\n",
      "  1.26258121e-03 -5.95945716e-02  5.95415663e-03 -5.32069393e-02\n",
      "  3.45039368e-02  5.82082979e-02  2.22643048e-01 -6.49276515e-03\n",
      "  7.27190524e-02 -1.29056543e-01  1.79401860e-02 -9.05938894e-02\n",
      "  1.01490781e-01  1.15685366e-01 -1.68552965e-01  1.09310821e-02\n",
      " -1.35432273e-01  9.06615108e-02  7.99193457e-02  2.41421498e-02\n",
      " -2.31238127e-01 -1.03922322e-01 -1.17066398e-01 -2.30290014e-02\n",
      "  1.10752642e-01 -4.43959571e-02 -3.20417546e-02  8.72559920e-02\n",
      "  6.00255355e-02  9.61250514e-02 -1.11057520e-01  8.56682509e-02\n",
      " -6.31045029e-02  3.14440489e-01 -1.74439140e-03 -1.35929435e-01\n",
      "  9.86575782e-02  1.57623738e-02  4.85920087e-02  3.69031020e-02\n",
      "  3.57599184e-03  7.96477720e-02  6.76719919e-02 -7.47979283e-02\n",
      " -1.73088871e-02 -5.85063472e-02  1.04520796e-02  8.35897848e-02\n",
      "  4.22167853e-02  5.82882762e-02 -3.41183729e-02  1.78625554e-01\n",
      "  4.96724211e-02 -6.01630379e-03  1.90587461e-01  1.45163506e-01\n",
      "  2.92742431e-01 -1.33185238e-02  3.46303955e-02  5.76053858e-02\n",
      " -1.21279098e-01 -1.12032056e-01  4.27892022e-02  6.02273233e-02\n",
      "  4.64653820e-02  2.65893177e-03 -1.24580145e-01  3.42399888e-02\n",
      "  4.24126014e-02 -1.11869112e-01  1.48223788e-01  8.96952860e-03\n",
      " -1.81652337e-01 -1.07477908e-03 -2.11170197e-01 -1.17638037e-02\n",
      " -2.57604639e-03  1.10269208e-02 -7.93513749e-03 -6.66716602e-03\n",
      " -9.73415654e-03 -1.95444189e-02  6.17408231e-02  1.48227945e-01\n",
      " -3.38140503e-02  5.64662144e-02  4.53053880e-03  1.56727689e-03\n",
      " -2.49589048e-02  3.12751457e-02  6.83686957e-02 -4.89721298e-02\n",
      "  2.70258095e-02 -9.16681513e-02 -1.15028676e-02  1.98250175e-01\n",
      " -5.13290279e-02 -1.46834463e-01 -2.97099743e-02  9.25371647e-02\n",
      " -2.13932488e-02 -2.21860129e-02  1.08121499e-01 -1.09768607e-01\n",
      "  2.24132732e-01  1.00555241e-01  1.87434703e-01  4.23492752e-02\n",
      "  1.38367321e-02  3.34970444e-01 -8.94525871e-02  1.88003093e-01\n",
      "  2.47843832e-01 -1.10779718e-01 -4.04662415e-02  2.33163029e-01\n",
      "  8.42885748e-02  1.83316078e-02 -4.82795276e-02 -7.81396404e-02\n",
      " -1.81104571e-01  8.59132558e-02  3.28349695e-02 -3.03934179e-02\n",
      " -6.87188655e-02 -5.54491095e-02 -1.16539076e-01  8.10939074e-02\n",
      "  1.66151658e-01 -1.04204081e-01 -4.54659089e-02  3.46217990e-01\n",
      " -6.87338412e-02 -2.79393137e-01 -6.11497872e-02  1.10450491e-01\n",
      "  1.33808199e-02  3.10391095e-02  5.62274754e-02 -2.26349663e-02\n",
      "  3.78253043e-01  9.29756463e-02 -2.95779519e-02  1.88408881e-01\n",
      " -2.13043064e-01  1.44064546e-01  2.67401397e-01 -5.44703007e-02\n",
      " -2.32595913e-02 -1.05153881e-01 -9.90558565e-02  1.31805003e-01\n",
      "  1.85671076e-02 -1.22279026e-01 -1.74548984e-01  3.65480855e-02\n",
      "  8.27224180e-02 -8.85890275e-02 -2.52251536e-01  1.33791342e-02\n",
      " -2.06478864e-01  2.36792237e-01  1.43139496e-01  3.78896177e-01\n",
      " -2.61094004e-01 -6.94778562e-03  1.02447331e-01 -9.56612006e-02\n",
      "  1.61615014e-01  7.02993721e-02  2.02162147e-01  4.00088802e-02\n",
      "  1.11095319e-02  1.97514802e-01 -3.20113540e-01  3.35540436e-02\n",
      "  1.83484331e-03 -9.16052386e-02  3.03619176e-01 -5.63807413e-02\n",
      " -5.23497351e-02  5.77888489e-02 -1.30018741e-01  1.06644750e-01\n",
      "  1.56175345e-01  1.56132951e-01  3.52125103e-03  1.45888599e-02\n",
      "  5.53498045e-02 -1.87324613e-01  9.90306288e-02 -6.11083619e-02\n",
      " -5.22105210e-02  9.50702094e-03  4.12470475e-02  5.32815084e-02\n",
      "  1.15712777e-01  7.95262307e-02 -2.55988896e-01 -3.58133130e-02\n",
      "  1.11880451e-02 -2.30245255e-02  5.48269749e-02  3.91696244e-02\n",
      " -1.52158409e-01 -9.44328085e-02 -1.75477326e-01  1.77097455e-01\n",
      " -4.81040366e-02 -5.01764640e-02 -4.02727723e-02  1.28545582e-01\n",
      "  3.59606519e-02 -3.68982442e-02 -7.22499713e-02  2.76763737e-02\n",
      " -3.85689549e-02 -1.93693697e-01 -1.79018855e-01 -4.76863012e-02\n",
      " -9.42009985e-02 -6.45715147e-02 -1.80334717e-01  2.04343840e-01\n",
      "  5.69465803e-03 -2.59253886e-02 -3.33098099e-02 -1.83862224e-01\n",
      " -8.52648094e-02  1.15508167e-02  5.81352189e-02 -1.33983210e-01\n",
      " -1.10393859e-01 -6.89581037e-03  7.58414716e-02  3.43196765e-02\n",
      " -1.34396004e-02 -1.52783349e-01  2.74066895e-01 -4.56747934e-02\n",
      " -2.46156100e-02  2.83161134e-01 -4.80791554e-02 -1.74021512e-01\n",
      " -1.06764734e-01  2.47774094e-01 -6.08022921e-02 -6.88287616e-03\n",
      " -1.55047849e-01  3.68534252e-02 -1.52219996e-01 -5.63970394e-03\n",
      " -1.50728539e-01 -1.91262409e-01 -1.18625583e-02  1.06365047e-01\n",
      "  1.23742506e-01  5.07268190e-01 -1.58181459e-01  1.30536407e-01\n",
      " -1.17095530e-01 -1.12515725e-01  9.80233178e-02 -2.78181255e-01\n",
      " -1.69206411e-02 -8.10275376e-02 -1.28671557e-01 -2.57597119e-02\n",
      " -5.37700541e-02  1.25524268e-01  4.31398228e-02  7.10597187e-02\n",
      " -4.99772206e-02  5.21996245e-02  1.35898679e-01 -7.50691742e-02\n",
      "  3.70494053e-02 -1.13780424e-01 -9.44700688e-02 -9.87421647e-02\n",
      " -3.13188061e-02 -1.62290052e-01 -7.90826827e-02 -1.44645302e-02\n",
      " -7.21682087e-02  2.55922433e-02 -5.64694889e-02 -1.44925443e-02\n",
      "  6.22617528e-02 -1.08713701e-01  4.01526690e-03  4.10226807e-02\n",
      "  4.15871441e-02 -3.84040661e-02 -1.39708251e-01  3.71084847e-02\n",
      "  2.96907369e-02 -8.05159472e-03 -5.80743030e-02  1.99992396e-02\n",
      " -1.73090041e-01  7.90285021e-02 -1.20680593e-01  5.04517369e-02\n",
      "  6.70899078e-02  3.39251454e-03  2.97371484e-02  7.98447430e-02\n",
      "  3.49063613e-02 -8.78541693e-02 -8.45664367e-02  4.91446033e-02\n",
      "  1.84949085e-01 -1.87111631e-01 -4.64286506e-02  2.15648003e-02\n",
      "  8.35067630e-02 -5.81395300e-03 -3.40652056e-02  5.82771823e-02\n",
      " -1.55514479e-02 -5.97702079e-02  4.21513841e-02 -3.86341028e-02\n",
      " -1.44392848e-01  2.21911035e-02  2.42751956e-01 -1.04216158e-01\n",
      " -1.76630110e-01 -7.37440586e-02 -7.98976198e-02  3.48156214e-01\n",
      "  4.56815287e-02 -1.83710568e-02  4.06874642e-02  1.31223336e-01\n",
      " -1.72486633e-01  1.15986280e-02 -3.26897837e-02 -2.36280672e-02\n",
      " -1.56974047e-01 -5.59649281e-02  8.71846452e-02  1.21380866e-01\n",
      " -7.95097847e-04  7.23633990e-02  8.46616775e-02 -9.37139839e-02\n",
      " -2.81199247e-01  6.47920519e-02  7.40280300e-02 -1.86444029e-01\n",
      " -1.45378616e-02 -2.85382066e-02  1.14884302e-01  1.08750522e-01\n",
      " -1.16895512e-01 -9.80315432e-02 -1.07453249e-01 -4.63581458e-02\n",
      " -5.73092811e-02 -6.92468137e-02 -1.60591416e-02 -5.06357178e-02\n",
      " -5.52285500e-02  2.38005351e-02 -1.52106583e-01  3.98728438e-02\n",
      "  5.23092598e-03 -3.03036608e-02 -2.86633633e-02 -3.58668976e-02\n",
      " -2.51923464e-02 -1.93694737e-02 -1.57438308e-01 -2.23388284e-01\n",
      " -4.69097607e-02  2.04677582e-02  4.01819423e-02 -1.96079701e-01\n",
      "  1.18868962e-01  3.62973288e-03 -2.22482178e-02  2.57773255e-03\n",
      " -3.69595066e-02 -1.51077420e-01  1.45763442e-01  1.99723333e-01\n",
      "  5.99575154e-02 -1.01890758e-01 -7.64687359e-02  2.26793252e-03\n",
      " -2.57982761e-02  9.86009985e-02  1.36138529e-01  1.18427753e-01\n",
      "  1.07316062e-01 -9.75074805e-03  4.57952693e-02  1.39061615e-01\n",
      " -6.67170435e-02  8.85605067e-02 -1.85625106e-01 -2.53604855e-02\n",
      " -5.66985980e-02  1.11719862e-01  1.21449992e-01 -2.63188928e-01\n",
      " -1.56577542e-01  7.68720955e-02 -8.62184316e-02 -4.84464839e-02\n",
      " -2.61202510e-02  1.21650323e-01  1.74283206e-01 -1.39217034e-01\n",
      "  7.68341348e-02 -4.35012877e-02 -1.36327878e-01  1.11988083e-01\n",
      " -1.07548691e-01 -4.62426506e-02 -2.84434464e-02  2.99584776e-01\n",
      "  6.27722740e-02 -1.81447715e-04 -1.04803763e-01 -3.78453806e-02\n",
      "  2.01567560e-01 -6.73242658e-03 -3.36488448e-02 -1.84171200e-02\n",
      "  9.38138589e-02 -2.59510567e-03  1.67375401e-01 -1.23424456e-01\n",
      " -1.10268280e-01 -1.68826193e-01 -3.03166900e-02 -9.54335257e-02\n",
      "  6.24212846e-02 -9.49329347e-04 -3.48037705e-02 -4.92925476e-03\n",
      "  1.46249652e-01 -2.93363538e-02  9.35991555e-02  1.32603183e-01\n",
      " -7.64383227e-02  5.22850528e-02 -5.85905090e-02 -1.23766199e-01\n",
      " -1.37803346e-01  7.76846334e-02  1.48454653e-02  2.02266842e-01\n",
      "  3.06560434e-02  1.14135360e-02 -2.94189930e-01  5.06350286e-02\n",
      "  5.25027327e-02 -3.63762565e-02 -4.85276468e-02  1.68133304e-02\n",
      "  3.82005498e-02 -7.04133958e-02 -1.22735098e-01 -2.24003755e-02\n",
      "  5.68516366e-03 -1.29689634e-01  1.58001751e-01 -1.88718855e-01\n",
      "  4.98027876e-02 -1.63196594e-01 -1.84865564e-01  4.56589237e-02\n",
      " -2.23059505e-02  2.14145094e-01 -9.09119844e-02  1.74170107e-01\n",
      "  3.56387675e-01 -1.83951765e-01 -1.61227718e-01  3.10573280e-02\n",
      "  3.08828913e-02  4.78554070e-02  1.85887784e-01  6.79247528e-02\n",
      "  2.48016879e-01  2.52400637e-02  1.21261463e-01 -3.33513692e-02\n",
      " -9.74473357e-02  1.32344082e-01 -1.28508076e-01  1.31601974e-01\n",
      " -3.32840644e-02 -9.36583132e-02  2.29231074e-01 -1.62661046e-01\n",
      "  1.82951808e-01 -1.85782373e-01  1.92117810e-01  1.73320517e-01\n",
      " -1.36124464e-02 -2.37052068e-02 -1.42589316e-01 -5.37089035e-02\n",
      " -1.69148535e-01 -1.11221172e-01 -9.42412168e-02  2.37114262e-02\n",
      "  8.67379308e-02  1.35969922e-01  1.89521551e-01 -7.88056850e-02\n",
      "  2.82734931e-02 -1.34884538e-02  4.24232781e-02 -8.12565461e-02\n",
      " -5.84697351e-02 -6.83999795e-04  1.05115376e-01 -1.24736596e-02\n",
      " -1.17534436e-02 -5.83527796e-02  9.37219486e-02 -3.10897939e-02\n",
      " -1.24749422e-01  1.25918295e-02 -1.79369785e-02 -2.07104795e-02\n",
      " -1.35280262e-03 -1.07412241e-01 -5.91101823e-03  1.40625816e-02\n",
      " -9.66576114e-02  1.25946254e-01 -5.03075533e-02 -5.84706804e-03\n",
      " -2.19545867e-02 -1.81083884e-02  1.14864409e-01 -1.01955749e-01\n",
      "  1.06273532e-01 -1.14236437e-01 -2.72360956e-03 -1.15499660e-01\n",
      " -8.42611790e-02  2.10824728e-01 -3.04660443e-02 -4.90653291e-02\n",
      " -1.59012586e-01 -7.03004077e-02  6.88677803e-02 -9.19958875e-02\n",
      "  8.93169940e-02 -1.08604968e-01  2.73419023e-02  1.33787721e-01\n",
      " -2.52874345e-02 -4.03351672e-02 -1.14524618e-01 -9.97887105e-02]\n"
     ]
    },
    {
     "data": {
      "text/plain": [
       "tensor([[0.1857, 0.1904, 0.2388, 0.1931, 0.1920]])"
      ]
     },
     "execution_count": 5,
     "metadata": {},
     "output_type": "execute_result"
    }
   ],
   "source": [
    "encodings = model.encode(sentences)\n",
    "\n",
    "# Das ist die Frage, die mit den gebenen Sätze verglichen wird?\n",
    "# Welcher Satz passt den deiner Meinung nach zu folgender Frage?\n",
    "query = \"Which model is used for media creation?\"\n",
    "\n",
    "queryEncoding = model.encode(query)\n",
    "\n",
    "print(queryEncoding)\n",
    "\n",
    "# Mithilfe der Softmax Funktion werden die Ähnlichkeiten normiert und als Wahrscheinlichkeitsverteilung ausgegeben\n",
    "result = torch.nn.Softmax(1)(util.cos_sim(queryEncoding, encodings),)\n",
    "result\n"
   ]
  },
  {
   "cell_type": "code",
   "execution_count": 6,
   "metadata": {
    "id": "RyjOeXnjaP47",
    "tags": []
   },
   "outputs": [
    {
     "name": "stdout",
     "output_type": "stream",
     "text": [
      "tensor(2)\n",
      "Generative adversarial networks are creating realistic images and videos.\n"
     ]
    }
   ],
   "source": [
    "# Der höchste Wert wird gesucht und der beste passendste Satz wird ausgegeben\n",
    "\n",
    "# Die Argmax-Funktion gibt den Index des höchsten Werts zurück\n",
    "highest = torch.argmax(result)\n",
    "print(highest)\n",
    "print(sentences[highest])\n",
    "#"
   ]
  },
  {
   "cell_type": "markdown",
   "metadata": {
    "id": "O_w8H0t5gOGq"
   },
   "source": [
    "- Aufgabe: Finde drei Wortpaare, die sich semantisch ähnlich sind (z.B. glücklich - zufrieden).\n",
    "Schwierigkeitsgrad: leicht\n",
    "\n",
    "- Aufgabe: Erkläre mit eigenen Worten, was ein Embedding ist.\n",
    "Schwierigkeitsgrad: leicht\n",
    "\n",
    "- Aufgabe: Verändere den Suchbegriff (query) im Code und beobachte, wie sich das Ergebnis ändert. Beschreibe deine Beobachtungen.\n",
    "Schwierigkeitsgrad: mittel\n",
    "\n",
    "- Aufgabe: Füge drei weitere Sätze zur Liste 'sentences' hinzu und überprüfe, wie das Ergebnis der semantischen Suche beeinflusst wird.\n",
    "Schwierigkeitsgrad: mittel\n",
    "\n",
    "- Aufgabe: Recherchiere, welche anderen SentenceTransformer-Modelle es gibt und vergleiche deren Leistung mit dem gegebenen Modell.\n",
    "Schwierigkeitsgrad: mittel\n",
    "\n",
    "- Aufgabe: Implementiere eine eigene Funktion, die die Ähnlichkeit zwischen zwei Sätzen berechnet, ohne die 'util.cos_sim' Funktion zu verwenden.\n",
    "Schwierigkeitsgrad: schwer\n",
    "\n",
    "- Aufgabe: Erweitere den Code so, dass die Top 3 ähnlichsten Sätze ausgegeben werden, statt nur des ähnlichsten.\n",
    "Schwierigkeitsgrad: mittel"
   ]
  }
 ],
 "metadata": {
  "colab": {
   "provenance": []
  },
  "kernelspec": {
   "display_name": "Python 3",
   "language": "python",
   "name": "python3"
  },
  "language_info": {
   "codemirror_mode": {
    "name": "ipython",
    "version": 3
   },
   "file_extension": ".py",
   "mimetype": "text/x-python",
   "name": "python",
   "nbconvert_exporter": "python",
   "pygments_lexer": "ipython3",
   "version": "3.11.4"
  }
 },
 "nbformat": 4,
 "nbformat_minor": 4
}
